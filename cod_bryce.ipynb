{
 "cells": [
  {
   "cell_type": "code",
   "execution_count": 1,
   "metadata": {},
   "outputs": [],
   "source": [
    "import pandas as pd\n",
    "import numpy as np\n",
    "from sklearn.ensemble import GradientBoostingRegressor\n",
    "from sklearn.model_selection import train_test_split, GridSearchCV\n",
    "from sklearn.pipeline import Pipeline\n",
    "from sklearn.impute import SimpleImputer\n",
    "from sklearn.preprocessing import PolynomialFeatures, StandardScaler\n",
    "from sklearn.metrics import mean_squared_error"
   ]
  },
  {
   "cell_type": "code",
   "execution_count": 2,
   "metadata": {},
   "outputs": [
    {
     "name": "stdout",
     "output_type": "stream",
     "text": [
      "   wins  kills  kdRatio  killstreak  level  losses  prestige  hits  \\\n",
      "0     0      0  0.00000           0      1       0         0     0   \n",
      "1     0      0  0.00000           0      1       0       110     0   \n",
      "2     0     66  1.03125           0      9       0       110     0   \n",
      "3     3      2  0.40000           0      1       0         0     0   \n",
      "4     0      2  0.20000           0      1       0       110     0   \n",
      "\n",
      "   timePlayed  headshots  averageTime  gamesPlayed  assists  misses     xp  \\\n",
      "0           0          0          0.0            0        0       0      0   \n",
      "1           7          0          7.0            0        0       0    700   \n",
      "2          32         16         32.0            0        1       0  48300   \n",
      "3           3          0          3.0            0        0       0   1150   \n",
      "4           5          1          5.0            0        0       0   1000   \n",
      "\n",
      "   scorePerMinute  shots  deaths  \n",
      "0             0.0      0       0  \n",
      "1             0.0      0      16  \n",
      "2             0.0      0      64  \n",
      "3             0.0      0       5  \n",
      "4             0.0      0      10  \n",
      "              wins         kills      kdRatio   killstreak        level  \\\n",
      "count  1558.000000   1558.000000  1558.000000  1558.000000  1558.000000   \n",
      "mean    153.002567   3753.001926     0.637098     6.895379    44.414634   \n",
      "std     301.984766   7929.696675     0.430459    10.184677    68.318064   \n",
      "min       0.000000      0.000000     0.000000     0.000000     1.000000   \n",
      "25%       0.000000      4.000000     0.261442     0.000000     1.000000   \n",
      "50%      10.000000    191.500000     0.732837     5.000000    11.000000   \n",
      "75%     168.000000   3445.750000     0.955293    12.000000    51.000000   \n",
      "max    3519.000000  66935.000000     3.000000   235.000000   435.000000   \n",
      "\n",
      "            losses     prestige           hits   timePlayed     headshots  \\\n",
      "count  1558.000000  1558.000000    1558.000000  1558.000000   1558.000000   \n",
      "mean      4.998074    47.657253   10330.189987   425.915918    630.672657   \n",
      "std       7.005778    51.626213   22954.104384   786.182499   1305.150393   \n",
      "min       0.000000     0.000000       0.000000     0.000000      0.000000   \n",
      "25%       0.000000     0.000000       0.000000     4.000000      1.000000   \n",
      "50%       2.000000    14.000000     214.500000    51.000000     32.000000   \n",
      "75%       8.000000   110.000000    9015.500000   485.500000    602.750000   \n",
      "max      80.000000   117.000000  209851.000000  7479.000000  11719.000000   \n",
      "\n",
      "       averageTime  gamesPlayed       assists         misses            xp  \\\n",
      "count  1558.000000  1558.000000   1558.000000    1558.000000  1.558000e+03   \n",
      "mean     21.428416   116.695764    685.797176   45356.671374  8.726335e+05   \n",
      "std      82.640000   256.354836   1518.383825   97919.428339  1.795755e+06   \n",
      "min       0.000000     0.000000      0.000000       0.000000  0.000000e+00   \n",
      "25%       2.000000     0.000000      0.000000       0.000000  2.106250e+03   \n",
      "50%       3.031116     3.000000     36.500000    1307.500000  6.396800e+04   \n",
      "75%       9.085714   110.500000    609.750000   40906.750000  8.286690e+05   \n",
      "max    1349.000000  3745.000000  14531.000000  965775.000000  1.497054e+07   \n",
      "\n",
      "       scorePerMinute         shots        deaths  \n",
      "count     1558.000000  1.558000e+03   1558.000000  \n",
      "mean       107.868825  5.568677e+04   3875.397946  \n",
      "std        116.526676  1.202811e+05   7992.666443  \n",
      "min          0.000000  0.000000e+00      0.000000  \n",
      "25%          0.000000  0.000000e+00     14.000000  \n",
      "50%         56.793995  1.565000e+03    269.000000  \n",
      "75%        221.648976  5.078100e+04   3698.750000  \n",
      "max        413.800000  1.166620e+06  67888.000000  \n"
     ]
    }
   ],
   "source": [
    "cod = pd.read_csv(\"cod.csv\")\n",
    "cod = cod.drop('name', axis=1)\n",
    "print(cod.head())\n",
    "print(cod.describe())"
   ]
  },
  {
   "cell_type": "code",
   "execution_count": 5,
   "metadata": {},
   "outputs": [
    {
     "name": "stdout",
     "output_type": "stream",
     "text": [
      "Index(['wins', 'kills', 'kdRatio', 'killstreak', 'level', 'losses', 'prestige',\n",
      "       'hits', 'timePlayed', 'headshots', 'averageTime', 'gamesPlayed',\n",
      "       'assists', 'misses', 'xp', 'scorePerMinute', 'shots', 'deaths',\n",
      "       'Accuracy', 'Headshot Ratio'],\n",
      "      dtype='object')\n"
     ]
    }
   ],
   "source": [
    "# Calculate Accuracy by dividing hits by shots, handling division by zero\n",
    "mask = cod['shots'] != 0\n",
    "cod.loc[mask, 'Accuracy'] = cod['hits'] / cod['shots']\n",
    "cod.loc[~mask, 'Accuracy'] = pd.NA\n",
    "\n",
    "# Calculate Headshot Ratio by dividing headshots by kills, handling division by zero\n",
    "mask = cod['kills'] != 0\n",
    "cod.loc[mask, 'Headshot Ratio'] = cod['headshots'] / cod['kills']\n",
    "cod.loc[~mask, 'Headshot Ratio'] = pd.NA\n",
    "\n",
    "print(cod.columns)"
   ]
  },
  {
   "cell_type": "code",
   "execution_count": 7,
   "metadata": {},
   "outputs": [],
   "source": [
    "X = cod.drop('wins', axis=1)\n",
    "y = cod['wins']\n",
    "\n",
    "X_train, X_test, y_train, y_test = train_test_split(X, y, random_state=102)\n",
    "\n",
    "# Define preprocessing pipeline\n",
    "preprocessing_pipeline = Pipeline([\n",
    "    ('impute', SimpleImputer(strategy='median')),\n",
    "    ('poly', PolynomialFeatures(degree=1, include_bias=False)),\n",
    "    ('standard', StandardScaler())\n",
    "])\n",
    "\n",
    "# Define the parameter grid for GridSearchCV\n",
    "param_grid = {\n",
    "    'model__n_estimators': [100, 200, 300],\n",
    "    'model__learning_rate': [0.01, 0.05, 0.1],\n",
    "    'model__max_depth': [3, 5, 7],\n",
    "    'model__subsample': [0.8, 0.9, 1.0]\n",
    "}\n",
    "\n",
    "# Create GridSearchCV pipeline\n",
    "grid_pipe = Pipeline([\n",
    "    ('preprocess', preprocessing_pipeline),\n",
    "    ('model', GradientBoostingRegressor(random_state=102))\n",
    "])"
   ]
  },
  {
   "cell_type": "code",
   "execution_count": 8,
   "metadata": {},
   "outputs": [
    {
     "data": {
      "text/html": [
       "<style>#sk-container-id-1 {color: black;}#sk-container-id-1 pre{padding: 0;}#sk-container-id-1 div.sk-toggleable {background-color: white;}#sk-container-id-1 label.sk-toggleable__label {cursor: pointer;display: block;width: 100%;margin-bottom: 0;padding: 0.3em;box-sizing: border-box;text-align: center;}#sk-container-id-1 label.sk-toggleable__label-arrow:before {content: \"▸\";float: left;margin-right: 0.25em;color: #696969;}#sk-container-id-1 label.sk-toggleable__label-arrow:hover:before {color: black;}#sk-container-id-1 div.sk-estimator:hover label.sk-toggleable__label-arrow:before {color: black;}#sk-container-id-1 div.sk-toggleable__content {max-height: 0;max-width: 0;overflow: hidden;text-align: left;background-color: #f0f8ff;}#sk-container-id-1 div.sk-toggleable__content pre {margin: 0.2em;color: black;border-radius: 0.25em;background-color: #f0f8ff;}#sk-container-id-1 input.sk-toggleable__control:checked~div.sk-toggleable__content {max-height: 200px;max-width: 100%;overflow: auto;}#sk-container-id-1 input.sk-toggleable__control:checked~label.sk-toggleable__label-arrow:before {content: \"▾\";}#sk-container-id-1 div.sk-estimator input.sk-toggleable__control:checked~label.sk-toggleable__label {background-color: #d4ebff;}#sk-container-id-1 div.sk-label input.sk-toggleable__control:checked~label.sk-toggleable__label {background-color: #d4ebff;}#sk-container-id-1 input.sk-hidden--visually {border: 0;clip: rect(1px 1px 1px 1px);clip: rect(1px, 1px, 1px, 1px);height: 1px;margin: -1px;overflow: hidden;padding: 0;position: absolute;width: 1px;}#sk-container-id-1 div.sk-estimator {font-family: monospace;background-color: #f0f8ff;border: 1px dotted black;border-radius: 0.25em;box-sizing: border-box;margin-bottom: 0.5em;}#sk-container-id-1 div.sk-estimator:hover {background-color: #d4ebff;}#sk-container-id-1 div.sk-parallel-item::after {content: \"\";width: 100%;border-bottom: 1px solid gray;flex-grow: 1;}#sk-container-id-1 div.sk-label:hover label.sk-toggleable__label {background-color: #d4ebff;}#sk-container-id-1 div.sk-serial::before {content: \"\";position: absolute;border-left: 1px solid gray;box-sizing: border-box;top: 0;bottom: 0;left: 50%;z-index: 0;}#sk-container-id-1 div.sk-serial {display: flex;flex-direction: column;align-items: center;background-color: white;padding-right: 0.2em;padding-left: 0.2em;position: relative;}#sk-container-id-1 div.sk-item {position: relative;z-index: 1;}#sk-container-id-1 div.sk-parallel {display: flex;align-items: stretch;justify-content: center;background-color: white;position: relative;}#sk-container-id-1 div.sk-item::before, #sk-container-id-1 div.sk-parallel-item::before {content: \"\";position: absolute;border-left: 1px solid gray;box-sizing: border-box;top: 0;bottom: 0;left: 50%;z-index: -1;}#sk-container-id-1 div.sk-parallel-item {display: flex;flex-direction: column;z-index: 1;position: relative;background-color: white;}#sk-container-id-1 div.sk-parallel-item:first-child::after {align-self: flex-end;width: 50%;}#sk-container-id-1 div.sk-parallel-item:last-child::after {align-self: flex-start;width: 50%;}#sk-container-id-1 div.sk-parallel-item:only-child::after {width: 0;}#sk-container-id-1 div.sk-dashed-wrapped {border: 1px dashed gray;margin: 0 0.4em 0.5em 0.4em;box-sizing: border-box;padding-bottom: 0.4em;background-color: white;}#sk-container-id-1 div.sk-label label {font-family: monospace;font-weight: bold;display: inline-block;line-height: 1.2em;}#sk-container-id-1 div.sk-label-container {text-align: center;}#sk-container-id-1 div.sk-container {/* jupyter's `normalize.less` sets `[hidden] { display: none; }` but bootstrap.min.css set `[hidden] { display: none !important; }` so we also need the `!important` here to be able to override the default hidden behavior on the sphinx rendered scikit-learn.org. See: https://github.com/scikit-learn/scikit-learn/issues/21755 */display: inline-block !important;position: relative;}#sk-container-id-1 div.sk-text-repr-fallback {display: none;}</style><div id=\"sk-container-id-1\" class=\"sk-top-container\"><div class=\"sk-text-repr-fallback\"><pre>GridSearchCV(cv=5,\n",
       "             estimator=Pipeline(steps=[(&#x27;preprocess&#x27;,\n",
       "                                        Pipeline(steps=[(&#x27;impute&#x27;,\n",
       "                                                         SimpleImputer(strategy=&#x27;median&#x27;)),\n",
       "                                                        (&#x27;poly&#x27;,\n",
       "                                                         PolynomialFeatures(degree=1,\n",
       "                                                                            include_bias=False)),\n",
       "                                                        (&#x27;standard&#x27;,\n",
       "                                                         StandardScaler())])),\n",
       "                                       (&#x27;model&#x27;,\n",
       "                                        GradientBoostingRegressor(random_state=102))]),\n",
       "             n_jobs=-1,\n",
       "             param_grid={&#x27;model__learning_rate&#x27;: [0.01, 0.05, 0.1],\n",
       "                         &#x27;model__max_depth&#x27;: [3, 5, 7],\n",
       "                         &#x27;model__n_estimators&#x27;: [100, 200, 300],\n",
       "                         &#x27;model__subsample&#x27;: [0.8, 0.9, 1.0]},\n",
       "             scoring=&#x27;neg_mean_squared_error&#x27;)</pre><b>In a Jupyter environment, please rerun this cell to show the HTML representation or trust the notebook. <br />On GitHub, the HTML representation is unable to render, please try loading this page with nbviewer.org.</b></div><div class=\"sk-container\" hidden><div class=\"sk-item sk-dashed-wrapped\"><div class=\"sk-label-container\"><div class=\"sk-label sk-toggleable\"><input class=\"sk-toggleable__control sk-hidden--visually\" id=\"sk-estimator-id-1\" type=\"checkbox\" ><label for=\"sk-estimator-id-1\" class=\"sk-toggleable__label sk-toggleable__label-arrow\">GridSearchCV</label><div class=\"sk-toggleable__content\"><pre>GridSearchCV(cv=5,\n",
       "             estimator=Pipeline(steps=[(&#x27;preprocess&#x27;,\n",
       "                                        Pipeline(steps=[(&#x27;impute&#x27;,\n",
       "                                                         SimpleImputer(strategy=&#x27;median&#x27;)),\n",
       "                                                        (&#x27;poly&#x27;,\n",
       "                                                         PolynomialFeatures(degree=1,\n",
       "                                                                            include_bias=False)),\n",
       "                                                        (&#x27;standard&#x27;,\n",
       "                                                         StandardScaler())])),\n",
       "                                       (&#x27;model&#x27;,\n",
       "                                        GradientBoostingRegressor(random_state=102))]),\n",
       "             n_jobs=-1,\n",
       "             param_grid={&#x27;model__learning_rate&#x27;: [0.01, 0.05, 0.1],\n",
       "                         &#x27;model__max_depth&#x27;: [3, 5, 7],\n",
       "                         &#x27;model__n_estimators&#x27;: [100, 200, 300],\n",
       "                         &#x27;model__subsample&#x27;: [0.8, 0.9, 1.0]},\n",
       "             scoring=&#x27;neg_mean_squared_error&#x27;)</pre></div></div></div><div class=\"sk-parallel\"><div class=\"sk-parallel-item\"><div class=\"sk-item\"><div class=\"sk-label-container\"><div class=\"sk-label sk-toggleable\"><input class=\"sk-toggleable__control sk-hidden--visually\" id=\"sk-estimator-id-2\" type=\"checkbox\" ><label for=\"sk-estimator-id-2\" class=\"sk-toggleable__label sk-toggleable__label-arrow\">estimator: Pipeline</label><div class=\"sk-toggleable__content\"><pre>Pipeline(steps=[(&#x27;preprocess&#x27;,\n",
       "                 Pipeline(steps=[(&#x27;impute&#x27;, SimpleImputer(strategy=&#x27;median&#x27;)),\n",
       "                                 (&#x27;poly&#x27;,\n",
       "                                  PolynomialFeatures(degree=1,\n",
       "                                                     include_bias=False)),\n",
       "                                 (&#x27;standard&#x27;, StandardScaler())])),\n",
       "                (&#x27;model&#x27;, GradientBoostingRegressor(random_state=102))])</pre></div></div></div><div class=\"sk-serial\"><div class=\"sk-item\"><div class=\"sk-serial\"><div class=\"sk-item\"><div class=\"sk-label-container\"><div class=\"sk-label sk-toggleable\"><input class=\"sk-toggleable__control sk-hidden--visually\" id=\"sk-estimator-id-3\" type=\"checkbox\" ><label for=\"sk-estimator-id-3\" class=\"sk-toggleable__label sk-toggleable__label-arrow\">preprocess: Pipeline</label><div class=\"sk-toggleable__content\"><pre>Pipeline(steps=[(&#x27;impute&#x27;, SimpleImputer(strategy=&#x27;median&#x27;)),\n",
       "                (&#x27;poly&#x27;, PolynomialFeatures(degree=1, include_bias=False)),\n",
       "                (&#x27;standard&#x27;, StandardScaler())])</pre></div></div></div><div class=\"sk-serial\"><div class=\"sk-item\"><div class=\"sk-estimator sk-toggleable\"><input class=\"sk-toggleable__control sk-hidden--visually\" id=\"sk-estimator-id-4\" type=\"checkbox\" ><label for=\"sk-estimator-id-4\" class=\"sk-toggleable__label sk-toggleable__label-arrow\">SimpleImputer</label><div class=\"sk-toggleable__content\"><pre>SimpleImputer(strategy=&#x27;median&#x27;)</pre></div></div></div><div class=\"sk-item\"><div class=\"sk-estimator sk-toggleable\"><input class=\"sk-toggleable__control sk-hidden--visually\" id=\"sk-estimator-id-5\" type=\"checkbox\" ><label for=\"sk-estimator-id-5\" class=\"sk-toggleable__label sk-toggleable__label-arrow\">PolynomialFeatures</label><div class=\"sk-toggleable__content\"><pre>PolynomialFeatures(degree=1, include_bias=False)</pre></div></div></div><div class=\"sk-item\"><div class=\"sk-estimator sk-toggleable\"><input class=\"sk-toggleable__control sk-hidden--visually\" id=\"sk-estimator-id-6\" type=\"checkbox\" ><label for=\"sk-estimator-id-6\" class=\"sk-toggleable__label sk-toggleable__label-arrow\">StandardScaler</label><div class=\"sk-toggleable__content\"><pre>StandardScaler()</pre></div></div></div></div></div><div class=\"sk-item\"><div class=\"sk-estimator sk-toggleable\"><input class=\"sk-toggleable__control sk-hidden--visually\" id=\"sk-estimator-id-7\" type=\"checkbox\" ><label for=\"sk-estimator-id-7\" class=\"sk-toggleable__label sk-toggleable__label-arrow\">GradientBoostingRegressor</label><div class=\"sk-toggleable__content\"><pre>GradientBoostingRegressor(random_state=102)</pre></div></div></div></div></div></div></div></div></div></div></div></div>"
      ],
      "text/plain": [
       "GridSearchCV(cv=5,\n",
       "             estimator=Pipeline(steps=[('preprocess',\n",
       "                                        Pipeline(steps=[('impute',\n",
       "                                                         SimpleImputer(strategy='median')),\n",
       "                                                        ('poly',\n",
       "                                                         PolynomialFeatures(degree=1,\n",
       "                                                                            include_bias=False)),\n",
       "                                                        ('standard',\n",
       "                                                         StandardScaler())])),\n",
       "                                       ('model',\n",
       "                                        GradientBoostingRegressor(random_state=102))]),\n",
       "             n_jobs=-1,\n",
       "             param_grid={'model__learning_rate': [0.01, 0.05, 0.1],\n",
       "                         'model__max_depth': [3, 5, 7],\n",
       "                         'model__n_estimators': [100, 200, 300],\n",
       "                         'model__subsample': [0.8, 0.9, 1.0]},\n",
       "             scoring='neg_mean_squared_error')"
      ]
     },
     "execution_count": 8,
     "metadata": {},
     "output_type": "execute_result"
    }
   ],
   "source": [
    "# Perform GridSearchCV\n",
    "grid_search = GridSearchCV(grid_pipe, param_grid, cv=5, scoring='neg_mean_squared_error', n_jobs=-1)\n",
    "grid_search.fit(X_train, y_train)\n"
   ]
  },
  {
   "cell_type": "code",
   "execution_count": 9,
   "metadata": {},
   "outputs": [
    {
     "name": "stdout",
     "output_type": "stream",
     "text": [
      "Best Parameters: {'model__learning_rate': 0.05, 'model__max_depth': 5, 'model__n_estimators': 100, 'model__subsample': 1.0}\n",
      "Train MSE: 315.6292906742566 \n",
      "\n",
      "Test MSE: 6809.872708995792 \n",
      "\n",
      "Test RMSE: 82.52195289131124 \n",
      "\n"
     ]
    }
   ],
   "source": [
    "# Get the best parameters and best estimator\n",
    "best_params = grid_search.best_params_\n",
    "best_estimator = grid_search.best_estimator_\n",
    "\n",
    "print(\"Best Parameters:\", best_params)\n",
    "\n",
    "# Evaluate the best model on train and test data\n",
    "train_preds = best_estimator.predict(X_train)\n",
    "mse_train = mean_squared_error(y_train, train_preds)\n",
    "print(f\"Train MSE: {mse_train} \\n\")\n",
    "\n",
    "test_preds = best_estimator.predict(X_test)\n",
    "mse_test = mean_squared_error(y_test, test_preds)\n",
    "print(f\"Test MSE: {mse_test} \\n\")\n",
    "print(f\"Test RMSE: {np.sqrt(mse_test)} \\n\")"
   ]
  },
  {
   "cell_type": "code",
   "execution_count": 16,
   "metadata": {},
   "outputs": [
    {
     "name": "stdout",
     "output_type": "stream",
     "text": [
      "Train MSE: 62221.066749621794 \n",
      "\n",
      "Test MSE: 50935.39986545725 \n",
      "\n",
      "Test RMSE: 225.68872339010926 \n",
      "\n"
     ]
    }
   ],
   "source": [
    "best_params['model__n_estimators'] = 500  # Increase the number of estimators\n",
    "best_params['model__learning_rate'] = 0.01  # Lower the learning rate\n",
    "best_params['model__max_depth'] = 5  # Keep the maximum depth\n",
    "best_params['model__subsample'] = 0.8  # Apply a subsample\n",
    "\n",
    "# Update the model with the adjusted parameters\n",
    "best_estimator.set_params(**best_params)\n",
    "\n",
    "# Evaluate the updated model on train and test data\n",
    "train_preds = best_estimator.predict(X_train)\n",
    "mse_train = mean_squared_error(y_train, train_preds)\n",
    "print(f\"Train MSE: {mse_train} \\n\")\n",
    "\n",
    "test_preds = best_estimator.predict(X_test)\n",
    "mse_test = mean_squared_error(y_test, test_preds)\n",
    "print(f\"Test MSE: {mse_test} \\n\")\n",
    "print(f\"Test RMSE: {np.sqrt(mse_test)} \\n\")"
   ]
  }
 ],
 "metadata": {
  "kernelspec": {
   "display_name": "stat386",
   "language": "python",
   "name": "python3"
  },
  "language_info": {
   "codemirror_mode": {
    "name": "ipython",
    "version": 3
   },
   "file_extension": ".py",
   "mimetype": "text/x-python",
   "name": "python",
   "nbconvert_exporter": "python",
   "pygments_lexer": "ipython3",
   "version": "3.10.12"
  },
  "orig_nbformat": 4
 },
 "nbformat": 4,
 "nbformat_minor": 2
}

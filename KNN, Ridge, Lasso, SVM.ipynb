{
 "cells": [
  {
   "cell_type": "code",
   "execution_count": 1,
   "metadata": {},
   "outputs": [],
   "source": [
    "# import libraries\n",
    "import pandas as pd\n",
    "import numpy as np\n",
    "from sklearn.neighbors import KNeighborsRegressor\n",
    "from sklearn.model_selection import train_test_split\n",
    "from sklearn.pipeline import Pipeline\n",
    "from sklearn.impute import SimpleImputer\n",
    "from sklearn.preprocessing import PolynomialFeatures, StandardScaler\n",
    "from sklearn.model_selection import GridSearchCV\n",
    "from sklearn.metrics import mean_squared_error\n",
    "from sklearn.compose import ColumnTransformer\n",
    "import os\n",
    "os.chdir('/Users/justinross/Documents/BYU/stat486/CallofDuty')"
   ]
  },
  {
   "cell_type": "code",
   "execution_count": 2,
   "metadata": {},
   "outputs": [],
   "source": [
    "# read in data\n",
    "cod = pd.read_csv(\"cod.csv\")\n",
    "cod = cod.drop('name', axis=1)\n",
    "\n",
    "# feature engineering\n",
    "\n",
    "# Calculate Accuracy by dividing hits by shots, handling division by zero\n",
    "mask = cod['shots'] != 0  # Create a mask for non-zero shots\n",
    "cod.loc[mask, 'Accuracy'] = cod['hits'] / cod['shots']\n",
    "cod.loc[~mask, 'Accuracy'] = pd.NA  # Set Accuracy to pd.NA for zero shots\n",
    "\n",
    "# Calculate Headshot Ratio by dividing headshots by kills, handling division by zero\n",
    "mask = cod['kills'] != 0  # Create a mask for non-zero shots\n",
    "cod.loc[mask, 'Headshot Ratio'] = cod['headshots'] / cod['kills']\n",
    "cod.loc[~mask, 'Headshot Ratio'] = pd.NA  # Set Accuracy to pd.NA for zero shots\n",
    "\n",
    "X = cod.drop('wins', axis=1)\n",
    "y = cod['wins']\n",
    "\n",
    "# create train and test sets\n",
    "X_train, X_test, y_train, y_test = train_test_split(X, y, random_state=102)"
   ]
  },
  {
   "cell_type": "code",
   "execution_count": 3,
   "metadata": {},
   "outputs": [
    {
     "name": "stdout",
     "output_type": "stream",
     "text": [
      "Best parameters: {'impute__strategy': 'median', 'model__n_neighbors': 5, 'model__weights': 'uniform', 'poly__degree': 1} \n",
      "\n",
      "Best MSE: 12651.044518420278 \n",
      "\n",
      "Test MSE: 11609.73558974359\n",
      "Test RMSE: 107.74848300437269\n"
     ]
    }
   ],
   "source": [
    "# grid search to tune hyperparameters\n",
    "\n",
    "pipe = Pipeline([\n",
    "  ('impute', SimpleImputer()),\n",
    "  ('poly', PolynomialFeatures(include_bias = True)),\n",
    "  ('standard', StandardScaler()),\n",
    "  ('model', KNeighborsRegressor())\n",
    "])\n",
    "\n",
    "params = {\n",
    "  'impute__strategy':('mean','median'), \n",
    "  'poly__degree':(1,2,3),\n",
    "  'model__n_neighbors': list(range(5, 101, 5)),\n",
    "  'model__weights': ['uniform', 'distance']\n",
    "}\n",
    "\n",
    "gs = GridSearchCV(pipe, param_grid = params, scoring = 'neg_mean_squared_error', cv = 10)\n",
    "gs.fit(X_train, y_train)\n",
    "\n",
    "# best hyperparameter combinations\n",
    "best_params = gs.best_params_\n",
    "print(f'Best parameters: {best_params} \\n')\n",
    "\n",
    "# best MSE\n",
    "best_mse = -gs.best_score_ \n",
    "print(f'Best MSE: {best_mse} \\n')\n",
    "\n",
    "best_model = gs.best_estimator_\n",
    "preds = best_model.predict(X_test)\n",
    "\n",
    "# test MSE\n",
    "test_mse = mean_squared_error(y_test, preds)\n",
    "print(f'Test MSE: {test_mse}')\n",
    "print(f'Test RMSE: {np.sqrt(test_mse)}')"
   ]
  },
  {
   "cell_type": "code",
   "execution_count": 4,
   "metadata": {},
   "outputs": [
    {
     "name": "stdout",
     "output_type": "stream",
     "text": [
      "Using KNN, the Train MSE is: 8123.9631849315065\n",
      "Using KNN, the Test MSE is: 11612.901333333331\n",
      "Using KNN, the Test RMSE is: 107.76317243536091 \n",
      "\n",
      "The variance of y_test is 74958.43498356345\n",
      "The sd of y_test is 273.78538124517064 \n",
      "\n"
     ]
    }
   ],
   "source": [
    "# implement the model with the tuned hyperparameters\n",
    "pipe = Pipeline([\n",
    "  ('impute', SimpleImputer(strategy = 'mean')),\n",
    "  ('standard', StandardScaler()),\n",
    "  ('model', KNeighborsRegressor(n_neighbors=5, weights='uniform'))\n",
    "])\n",
    "\n",
    "# fit pipeline to training data\n",
    "pipe.fit(X_train, y_train)\n",
    "\n",
    "# training MSE\n",
    "train_preds = pipe.predict(X_train)\n",
    "mse_train = mean_squared_error(y_train, train_preds)\n",
    "print(f\"Using KNN, the Train MSE is: {mse_train}\")\n",
    "\n",
    "# test MSE\n",
    "test_preds = pipe.predict(X_test)\n",
    "mse_test = mean_squared_error(y_test, test_preds)\n",
    "print(f\"Using KNN, the Test MSE is: {mse_test}\")\n",
    "print(f\"Using KNN, the Test RMSE is: {np.sqrt(mse_test)} \\n\")\n",
    "\n",
    "print(f\"The variance of y_test is {np.var(y_test)}\")\n",
    "print(f\"The sd of y_test is {np.std(y_test)} \\n\")"
   ]
  },
  {
   "cell_type": "markdown",
   "metadata": {},
   "source": [
    "This KNN model is overfitting, as the train MSE (8125) is lower than the Test MSE (11609). I will now try some regularization methods to combat overfitting."
   ]
  },
  {
   "cell_type": "code",
   "execution_count": 5,
   "metadata": {},
   "outputs": [
    {
     "name": "stdout",
     "output_type": "stream",
     "text": [
      "Using Ridge, the optimal alpha value is 10.82636733874054\n",
      "Using Ridge, the Train MSE is 4814.805932744393\n",
      "Using Ridge, the Train RMSE is: 69.38880264671234 \n",
      "\n",
      "Using Ridge, the Test MSE is: 7282.26717740987\n",
      "Using Ridge, the Test RMSE is: 85.33620086112265 \n",
      "\n",
      "kills: 37.6757\n",
      "kdRatio: 0.3005\n",
      "killstreak: 6.9900\n",
      "level: 13.1615\n",
      "losses: -7.4831\n",
      "prestige: -1.2794\n",
      "hits: -12.2836\n",
      "timePlayed: 180.7026\n",
      "headshots: -10.9353\n",
      "averageTime: -10.9021\n",
      "gamesPlayed: 116.6350\n",
      "assists: -49.7065\n",
      "misses: 14.2236\n",
      "xp: -42.2006\n",
      "scorePerMinute: 3.9169\n",
      "shots: 9.1478\n",
      "deaths: 48.2931\n",
      "Accuracy: 3.1387\n",
      "Headshot Ratio: -0.8850\n"
     ]
    }
   ],
   "source": [
    "from sklearn.linear_model import RidgeCV\n",
    "from sklearn.metrics import mean_squared_error\n",
    "from sklearn.linear_model import LassoCV\n",
    "\n",
    "process = Pipeline([\n",
    "    ('impute', SimpleImputer(strategy = 'mean')),\n",
    "    ('standard', StandardScaler())\n",
    "])\n",
    "\n",
    "X_train = process.fit_transform(X_train)\n",
    "X_test = process.transform(X_test)\n",
    "\n",
    "alpha_values = np.logspace(-6, 6, 30)\n",
    "ridge = RidgeCV(alphas = alpha_values, cv=10)\n",
    "ridge.fit(X_train, y_train)\n",
    "\n",
    "#(b) What is the optimal value for alpha?\n",
    "print(f\"Using Ridge, the optimal alpha value is {ridge.alpha_}\")\n",
    "\n",
    "# What is the train MSE?\n",
    "preds = ridge.predict(X_train)\n",
    "trainMSE = mean_squared_error(y_train, preds)\n",
    "print(f\"Using Ridge, the Train MSE is {trainMSE}\")\n",
    "print(f\"Using Ridge, the Train RMSE is: {np.sqrt(trainMSE)} \\n\")\n",
    "\n",
    "#(c) What is the test MSE?\n",
    "preds = ridge.predict(X_test)\n",
    "testMSE = mean_squared_error(y_test, preds)\n",
    "print(f\"Using Ridge, the Test MSE is: {testMSE}\")\n",
    "print(f\"Using Ridge, the Test RMSE is: {np.sqrt(testMSE)} \\n\")\n",
    "coefficients = ridge.coef_\n",
    "feature_names = X.columns.tolist()\n",
    "\n",
    "for feature_name, coefficient in zip(feature_names, coefficients):\n",
    "    print(f\"{feature_name}: {coefficient:.4f}\")"
   ]
  },
  {
   "cell_type": "code",
   "execution_count": 6,
   "metadata": {},
   "outputs": [
    {
     "name": "stdout",
     "output_type": "stream",
     "text": [
      "\n",
      "Using Lasso, the optimal alpha value is 0.7227887153497466\n",
      "Using Lasso, the Train MSE is 4847.7136067630945\n",
      "Using Lasso, the Train RMSE is: 69.62552410404602 \n",
      "\n",
      "Using Lasso, the Test MSE is 7172.186372166999\n",
      "Using Lasso, the Test RMSE is: 84.68876178199206 \n",
      "\n"
     ]
    }
   ],
   "source": [
    "lasso = LassoCV(cv=10)\n",
    "lasso.fit(X_train, y_train)\n",
    "\n",
    "# What is the optimal value for alpha?\n",
    "print()\n",
    "print(f\"Using Lasso, the optimal alpha value is {lasso.alpha_}\")\n",
    "\n",
    "#(c) What is the train MSE?\n",
    "preds = lasso.predict(X_train)\n",
    "trainMSE = mean_squared_error(y_train, preds)\n",
    "print(f\"Using Lasso, the Train MSE is {trainMSE}\")\n",
    "print(f\"Using Lasso, the Train RMSE is: {np.sqrt(trainMSE)} \\n\")\n",
    "\n",
    "# What is the test MSE?\n",
    "preds = lasso.predict(X_test)\n",
    "testMSE = mean_squared_error(y_test, preds)\n",
    "print(f\"Using Lasso, the Test MSE is {testMSE}\")\n",
    "print(f\"Using Lasso, the Test RMSE is: {np.sqrt(testMSE)} \\n\")"
   ]
  },
  {
   "cell_type": "code",
   "execution_count": 7,
   "metadata": {},
   "outputs": [
    {
     "name": "stdout",
     "output_type": "stream",
     "text": [
      "Train MSE: 19222.342465753423 \n",
      "\n",
      "Test MSE: 53643.071794871794 \n",
      "\n",
      "Test RMSE: 231.60974028497117 \n",
      "\n",
      "The variance of y_test is 74958.43498356345 \n",
      "\n",
      "The sd of y_test is 273.78538124517064 \n",
      "\n"
     ]
    }
   ],
   "source": [
    "# lets try SVM\n",
    "from sklearn.svm import SVC\n",
    "pipe = Pipeline([\n",
    "  ('impute', SimpleImputer(strategy = 'mean')),\n",
    "  ('standard', StandardScaler()),\n",
    "  ('model', SVC())\n",
    "])\n",
    "\n",
    "pipe.fit(X_train, y_train)\n",
    "# training MSE\n",
    "train_preds = pipe.predict(X_train)\n",
    "mse_train = mean_squared_error(y_train, train_preds)\n",
    "print(f\"Train MSE: {mse_train} \\n\")\n",
    "\n",
    "# test MSE\n",
    "test_preds = pipe.predict(X_test)\n",
    "mse_test = mean_squared_error(y_test, test_preds)\n",
    "print(f\"Test MSE: {mse_test} \\n\")\n",
    "print(f\"Test RMSE: {np.sqrt(mse_test)} \\n\")\n",
    "\n",
    "print(f\"The variance of y_test is {np.var(y_test)} \\n\")\n",
    "print(f\"The sd of y_test is {np.std(y_test)} \\n\")"
   ]
  },
  {
   "cell_type": "code",
   "execution_count": 8,
   "metadata": {},
   "outputs": [
    {
     "name": "stderr",
     "output_type": "stream",
     "text": [
      "/Library/Frameworks/Python.framework/Versions/3.11/lib/python3.11/site-packages/sklearn/model_selection/_split.py:737: UserWarning: The least populated class in y has only 1 members, which is less than n_splits=10.\n",
      "  warnings.warn(\n"
     ]
    },
    {
     "name": "stdout",
     "output_type": "stream",
     "text": [
      "Best parameters: {'impute__strategy': 'mean', 'model__C': 1, 'model__gamma': 'scale', 'model__kernel': 'linear'} \n",
      "\n",
      "Best MSE: 21896.415237253164 \n",
      "\n",
      "Test MSE: 16350.502564102564\n",
      "Test RMSE: 127.86908369149505\n"
     ]
    }
   ],
   "source": [
    "# grid search to tune hyperparameters\n",
    "\n",
    "pipe = Pipeline([\n",
    "  ('impute', SimpleImputer()),\n",
    "  ('poly', PolynomialFeatures(include_bias = True)),\n",
    "  ('standard', StandardScaler()),\n",
    "  ('model', SVC())\n",
    "])\n",
    "\n",
    "params = {\n",
    "    'impute__strategy': ('mean', 'median'),\n",
    "    'model__C': [0.05, 0.1, 1],  # Regularization parameter\n",
    "    'model__kernel': ['linear', 'rbf', 'poly'],  # Kernel type\n",
    "    'model__gamma': ['scale', 'auto']  # Kernel coefficient (for 'rbf' and 'poly')\n",
    "}\n",
    "\n",
    "gs = GridSearchCV(pipe, param_grid = params, scoring = 'neg_mean_squared_error', cv = 10)\n",
    "gs.fit(X_train, y_train)\n",
    "\n",
    "# best hyperparameter combinations\n",
    "best_params = gs.best_params_\n",
    "print(f'Best parameters: {best_params} \\n')\n",
    "\n",
    "# best MSE\n",
    "best_mse = -gs.best_score_ \n",
    "print(f'Best MSE: {best_mse} \\n')\n",
    "\n",
    "best_model = gs.best_estimator_\n",
    "preds = best_model.predict(X_test)\n",
    "\n",
    "# test MSE\n",
    "test_mse = mean_squared_error(y_test, preds)\n",
    "print(f'Test MSE: {test_mse}')\n",
    "print(f'Test RMSE: {np.sqrt(test_mse)}')"
   ]
  }
 ],
 "metadata": {
  "kernelspec": {
   "display_name": "Python 3",
   "language": "python",
   "name": "python3"
  },
  "language_info": {
   "codemirror_mode": {
    "name": "ipython",
    "version": 3
   },
   "file_extension": ".py",
   "mimetype": "text/x-python",
   "name": "python",
   "nbconvert_exporter": "python",
   "pygments_lexer": "ipython3",
   "version": "3.11.5"
  }
 },
 "nbformat": 4,
 "nbformat_minor": 2
}

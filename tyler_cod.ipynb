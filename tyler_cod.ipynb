{
 "cells": [
  {
   "cell_type": "code",
   "execution_count": 1,
   "metadata": {},
   "outputs": [],
   "source": [
    "import pandas as pd\n",
    "import numpy as np\n",
    "from sklearn.neighbors import KNeighborsRegressor\n",
    "from sklearn.model_selection import train_test_split, RandomizedSearchCV\n",
    "from sklearn.pipeline import Pipeline\n",
    "from sklearn.impute import SimpleImputer\n",
    "from sklearn.preprocessing import PolynomialFeatures, StandardScaler\n",
    "from sklearn.model_selection import GridSearchCV\n",
    "from sklearn.metrics import mean_squared_error\n",
    "from sklearn.compose import ColumnTransformer\n",
    "from scipy.stats import randint\n",
    "import joblib\n",
    "from sklearn.ensemble import RandomForestRegressor"
   ]
  },
  {
   "cell_type": "code",
   "execution_count": 2,
   "metadata": {},
   "outputs": [
    {
     "name": "stdout",
     "output_type": "stream",
     "text": [
      "   wins  kills  kdRatio  killstreak  level  losses  prestige  hits  \\\n",
      "0     0      0  0.00000           0      1       0         0     0   \n",
      "1     0      0  0.00000           0      1       0       110     0   \n",
      "2     0     66  1.03125           0      9       0       110     0   \n",
      "3     3      2  0.40000           0      1       0         0     0   \n",
      "4     0      2  0.20000           0      1       0       110     0   \n",
      "\n",
      "   timePlayed  headshots  averageTime  gamesPlayed  assists  misses     xp  \\\n",
      "0           0          0          0.0            0        0       0      0   \n",
      "1           7          0          7.0            0        0       0    700   \n",
      "2          32         16         32.0            0        1       0  48300   \n",
      "3           3          0          3.0            0        0       0   1150   \n",
      "4           5          1          5.0            0        0       0   1000   \n",
      "\n",
      "   scorePerMinute  shots  deaths  \n",
      "0             0.0      0       0  \n",
      "1             0.0      0      16  \n",
      "2             0.0      0      64  \n",
      "3             0.0      0       5  \n",
      "4             0.0      0      10  \n",
      "(1558, 18)\n"
     ]
    }
   ],
   "source": [
    "cod = pd.read_csv(\"cod.csv\")\n",
    "cod = cod.drop('name', axis=1)\n",
    "print(cod.head())\n",
    "print(cod.shape)"
   ]
  },
  {
   "cell_type": "code",
   "execution_count": 3,
   "metadata": {},
   "outputs": [
    {
     "name": "stdout",
     "output_type": "stream",
     "text": [
      "              wins         kills      kdRatio   killstreak        level  \\\n",
      "count  1558.000000   1558.000000  1558.000000  1558.000000  1558.000000   \n",
      "mean    153.002567   3753.001926     0.637098     6.895379    44.414634   \n",
      "std     301.984766   7929.696675     0.430459    10.184677    68.318064   \n",
      "min       0.000000      0.000000     0.000000     0.000000     1.000000   \n",
      "25%       0.000000      4.000000     0.261442     0.000000     1.000000   \n",
      "50%      10.000000    191.500000     0.732837     5.000000    11.000000   \n",
      "75%     168.000000   3445.750000     0.955293    12.000000    51.000000   \n",
      "max    3519.000000  66935.000000     3.000000   235.000000   435.000000   \n",
      "\n",
      "            losses     prestige           hits   timePlayed     headshots  \\\n",
      "count  1558.000000  1558.000000    1558.000000  1558.000000   1558.000000   \n",
      "mean      4.998074    47.657253   10330.189987   425.915918    630.672657   \n",
      "std       7.005778    51.626213   22954.104384   786.182499   1305.150393   \n",
      "min       0.000000     0.000000       0.000000     0.000000      0.000000   \n",
      "25%       0.000000     0.000000       0.000000     4.000000      1.000000   \n",
      "50%       2.000000    14.000000     214.500000    51.000000     32.000000   \n",
      "75%       8.000000   110.000000    9015.500000   485.500000    602.750000   \n",
      "max      80.000000   117.000000  209851.000000  7479.000000  11719.000000   \n",
      "\n",
      "       averageTime  gamesPlayed       assists         misses            xp  \\\n",
      "count  1558.000000  1558.000000   1558.000000    1558.000000  1.558000e+03   \n",
      "mean     21.428416   116.695764    685.797176   45356.671374  8.726335e+05   \n",
      "std      82.640000   256.354836   1518.383825   97919.428339  1.795755e+06   \n",
      "min       0.000000     0.000000      0.000000       0.000000  0.000000e+00   \n",
      "25%       2.000000     0.000000      0.000000       0.000000  2.106250e+03   \n",
      "50%       3.031116     3.000000     36.500000    1307.500000  6.396800e+04   \n",
      "75%       9.085714   110.500000    609.750000   40906.750000  8.286690e+05   \n",
      "max    1349.000000  3745.000000  14531.000000  965775.000000  1.497054e+07   \n",
      "\n",
      "       scorePerMinute         shots        deaths  \n",
      "count     1558.000000  1.558000e+03   1558.000000  \n",
      "mean       107.868825  5.568677e+04   3875.397946  \n",
      "std        116.526676  1.202811e+05   7992.666443  \n",
      "min          0.000000  0.000000e+00      0.000000  \n",
      "25%          0.000000  0.000000e+00     14.000000  \n",
      "50%         56.793995  1.565000e+03    269.000000  \n",
      "75%        221.648976  5.078100e+04   3698.750000  \n",
      "max        413.800000  1.166620e+06  67888.000000  \n"
     ]
    }
   ],
   "source": [
    "print(cod.describe())"
   ]
  },
  {
   "cell_type": "code",
   "execution_count": 4,
   "metadata": {},
   "outputs": [
    {
     "name": "stdout",
     "output_type": "stream",
     "text": [
      "Index(['wins', 'kills', 'kdRatio', 'killstreak', 'level', 'losses', 'prestige',\n",
      "       'hits', 'timePlayed', 'headshots', 'averageTime', 'gamesPlayed',\n",
      "       'assists', 'misses', 'xp', 'scorePerMinute', 'shots', 'deaths',\n",
      "       'Accuracy', 'Headshot Ratio'],\n",
      "      dtype='object')\n"
     ]
    }
   ],
   "source": [
    "# Calculate Accuracy by dividing hits by shots, handling division by zero\n",
    "mask = cod['shots'] != 0  # Create a mask for non-zero shots\n",
    "cod.loc[mask, 'Accuracy'] = cod['hits'] / cod['shots']\n",
    "cod.loc[~mask, 'Accuracy'] = pd.NA  # Set Accuracy to pd.NA for zero shots\n",
    "\n",
    "# Calculate Headshot Ratio by dividing headshots by kills, handling division by zero\n",
    "mask = cod['kills'] != 0  # Create a mask for non-zero shots\n",
    "cod.loc[mask, 'Headshot Ratio'] = cod['headshots'] / cod['kills']\n",
    "cod.loc[~mask, 'Headshot Ratio'] = pd.NA  # Set Accuracy to pd.NA for zero shots\n",
    "\n",
    "print(cod.columns)"
   ]
  },
  {
   "cell_type": "markdown",
   "metadata": {},
   "source": [
    "RANDOM FOREST ROUND 1"
   ]
  },
  {
   "cell_type": "code",
   "execution_count": 5,
   "metadata": {},
   "outputs": [],
   "source": [
    "X = cod.drop('wins', axis=1)\n",
    "y = cod['wins']\n",
    "\n",
    "# Calculate the first quartile (Q1) and third quartile (Q3)\n",
    "Q1 = cod['gamesPlayed'].quantile(0.25)\n",
    "Q3 = cod['gamesPlayed'].quantile(0.75)\n",
    "\n",
    "# Calculate the IQR (Interquartile Range)\n",
    "IQR = Q3 - Q1\n",
    "\n",
    "# Define the upper and lower bounds to identify outliers\n",
    "lower_bound = Q1 - 1.5 * IQR\n",
    "upper_bound = Q3 + 1.5 * IQR\n",
    "\n",
    "# Filter out rows where data points are outside the bounds\n",
    "cod = cod[(cod['gamesPlayed'] >= lower_bound) & (cod['gamesPlayed'] <= upper_bound)]\n",
    "cod = cod[cod['gamesPlayed'] != 0]"
   ]
  },
  {
   "cell_type": "code",
   "execution_count": 6,
   "metadata": {},
   "outputs": [],
   "source": [
    "# Split the data\n",
    "X_train, X_test, y_train, y_test = train_test_split(X, y, test_size=0.2, random_state=0) "
   ]
  },
  {
   "cell_type": "code",
   "execution_count": 7,
   "metadata": {},
   "outputs": [],
   "source": [
    "# Update the pipeline to use RandomForestRegressor\n",
    "rf_pipe = Pipeline([\n",
    "    ('impute', SimpleImputer(strategy='median')),\n",
    "    ('poly', PolynomialFeatures(degree=1, include_bias=False)),\n",
    "    ('standard', StandardScaler()),\n",
    "    ('rf', RandomForestRegressor(random_state=0))\n",
    "])"
   ]
  },
  {
   "cell_type": "code",
   "execution_count": 10,
   "metadata": {},
   "outputs": [
    {
     "name": "stdout",
     "output_type": "stream",
     "text": [
      "Fitting 10 folds for each of 20 candidates, totalling 200 fits\n",
      "Training RMSE: 59.36\n",
      "Testing RMSE: 78.64\n"
     ]
    }
   ],
   "source": [
    "from sklearn.model_selection import train_test_split, RandomizedSearchCV\n",
    "from sklearn.pipeline import Pipeline\n",
    "from sklearn.impute import SimpleImputer\n",
    "from sklearn.preprocessing import PolynomialFeatures, StandardScaler\n",
    "from sklearn.ensemble import RandomForestRegressor\n",
    "from sklearn.metrics import mean_squared_error\n",
    "from scipy.stats import randint\n",
    "import numpy as np\n",
    "\n",
    "# Assuming 'cod' is your DataFrame and the necessary imports and initial processing are already done.\n",
    "\n",
    "# Set up your feature matrix and target vector\n",
    "X = cod.drop('wins', axis=1)\n",
    "y = cod['wins']\n",
    "\n",
    "# Filtering out outliers and zero gamesPlayed as already defined in your code\n",
    "Q1 = cod['gamesPlayed'].quantile(0.25)\n",
    "Q3 = cod['gamesPlayed'].quantile(0.75)\n",
    "IQR = Q3 - Q1\n",
    "lower_bound = Q1 - 1.5 * IQR\n",
    "upper_bound = Q3 + 1.5 * IQR\n",
    "cod_filtered = cod[(cod['gamesPlayed'] >= lower_bound) & (cod['gamesPlayed'] <= upper_bound) & (cod['gamesPlayed'] != 0)]\n",
    "\n",
    "X = cod_filtered.drop('wins', axis=1)\n",
    "y = cod_filtered['wins']\n",
    "\n",
    "# Split the data into training and testing sets\n",
    "X_train, X_test, y_train, y_test = train_test_split(X, y, test_size=0.2, random_state=0)\n",
    "\n",
    "# Define the pipeline\n",
    "rf_pipe = Pipeline([\n",
    "    ('impute', SimpleImputer(strategy='median')),\n",
    "    ('poly', PolynomialFeatures(degree=1, include_bias=False)),\n",
    "    ('standard', StandardScaler()),\n",
    "    ('rf', RandomForestRegressor(random_state=0))\n",
    "])\n",
    "\n",
    "# Define the parameter space for RandomizedSearchCV\n",
    "param_distributions = {\n",
    "    'rf__n_estimators': randint(100, 300),\n",
    "    'rf__max_depth': randint(3, 10),  # Reduced depth\n",
    "    'rf__min_samples_leaf': randint(6, 20),  # Increased samples per leaf\n",
    "    'rf__min_samples_split': randint(15, 30),  # Increased samples needed to split\n",
    "    'rf__max_features': ['sqrt', 'log2'],\n",
    "}\n",
    "\n",
    "\n",
    "# Setup RandomizedSearchCV\n",
    "random_search = RandomizedSearchCV(\n",
    "    rf_pipe,\n",
    "    param_distributions=param_distributions,\n",
    "    n_iter=20,  # Number of parameter settings that are sampled\n",
    "    cv=10,  # Number of folds in cross-validation\n",
    "    scoring='neg_mean_squared_error',\n",
    "    random_state=102,\n",
    "    verbose=1\n",
    ")\n",
    "\n",
    "# Fit the model\n",
    "random_search.fit(X_train, y_train)\n",
    "\n",
    "# Predict on the training set and testing set\n",
    "y_train_pred = random_search.predict(X_train)\n",
    "y_test_pred = random_search.predict(X_test)\n",
    "\n",
    "# Calculate RMSE for training and testing sets\n",
    "train_rmse = np.sqrt(mean_squared_error(y_train, y_train_pred))\n",
    "test_rmse = np.sqrt(mean_squared_error(y_test, y_test_pred))\n",
    "\n",
    "# Output the results\n",
    "print(\"Training RMSE: {:.2f}\".format(train_rmse))\n",
    "print(\"Testing RMSE: {:.2f}\".format(test_rmse))"
   ]
  },
  {
   "cell_type": "markdown",
   "metadata": {},
   "source": [
    "Log Transformed Random Forest"
   ]
  },
  {
   "cell_type": "code",
   "execution_count": 11,
   "metadata": {},
   "outputs": [
    {
     "name": "stdout",
     "output_type": "stream",
     "text": [
      "Fitting 10 folds for each of 20 candidates, totalling 200 fits\n",
      "Training RMSE: 61.54\n",
      "Testing RMSE: 81.04\n"
     ]
    }
   ],
   "source": [
    "from sklearn.model_selection import train_test_split, RandomizedSearchCV\n",
    "from sklearn.pipeline import Pipeline\n",
    "from sklearn.impute import SimpleImputer\n",
    "from sklearn.preprocessing import PolynomialFeatures, StandardScaler\n",
    "from sklearn.ensemble import RandomForestRegressor\n",
    "from sklearn.metrics import mean_squared_error\n",
    "from sklearn.compose import TransformedTargetRegressor\n",
    "from sklearn.preprocessing import FunctionTransformer\n",
    "from scipy.stats import randint\n",
    "import numpy as np\n",
    "\n",
    "# Assuming 'cod' is your DataFrame and the necessary imports and initial processing are already done.\n",
    "\n",
    "# Set up your feature matrix and target vector\n",
    "X = cod.drop('wins', axis=1)\n",
    "y = cod['wins']\n",
    "\n",
    "# Filtering out outliers and zero gamesPlayed as already defined in your code\n",
    "Q1 = cod['gamesPlayed'].quantile(0.25)\n",
    "Q3 = cod['gamesPlayed'].quantile(0.75)\n",
    "IQR = Q3 - Q1\n",
    "lower_bound = Q1 - 1.5 * IQR\n",
    "upper_bound = Q3 + 1.5 * IQR\n",
    "cod_filtered = cod[(cod['gamesPlayed'] >= lower_bound) & (cod['gamesPlayed'] <= upper_bound) & (cod['gamesPlayed'] != 0)]\n",
    "\n",
    "X = cod_filtered.drop('wins', axis=1)\n",
    "y = cod_filtered['wins']\n",
    "\n",
    "# Transform the target variable 'wins'\n",
    "log_transformer = FunctionTransformer(np.log1p, inverse_func=np.expm1)\n",
    "\n",
    "# Split the data into training and testing sets\n",
    "X_train, X_test, y_train, y_test = train_test_split(X, y, test_size=0.2, random_state=0)\n",
    "\n",
    "# Define the pipeline\n",
    "rf_pipe = Pipeline([\n",
    "    ('impute', SimpleImputer(strategy='median')),\n",
    "    ('poly', PolynomialFeatures(degree=1, include_bias=False)),\n",
    "    ('standard', StandardScaler()),\n",
    "    ('rf', RandomForestRegressor(random_state=0))\n",
    "])\n",
    "\n",
    "# Define the parameter space for RandomizedSearchCV\n",
    "param_distributions = {\n",
    "    'rf__n_estimators': randint(150, 500),\n",
    "    'rf__max_depth': randint(5, 15),\n",
    "    'rf__min_samples_leaf': randint(4, 12),\n",
    "    'rf__min_samples_split': randint(10, 20),\n",
    "    'rf__max_features': ['sqrt', 'log2'],\n",
    "}\n",
    "\n",
    "# Setup RandomizedSearchCV\n",
    "random_search = RandomizedSearchCV(\n",
    "    rf_pipe,\n",
    "    param_distributions=param_distributions,\n",
    "    n_iter=20,  # Number of parameter settings that are sampled\n",
    "    cv=10,  # Number of folds in cross-validation\n",
    "    scoring='neg_mean_squared_error',\n",
    "    random_state=102,\n",
    "    verbose=1\n",
    ")\n",
    "\n",
    "# Setup TransformedTargetRegressor with log transformation\n",
    "tt_regressor = TransformedTargetRegressor(regressor=random_search, transformer=log_transformer)\n",
    "\n",
    "# Fit the model\n",
    "tt_regressor.fit(X_train, y_train)\n",
    "\n",
    "# Predict on the training set and testing set\n",
    "y_train_pred = tt_regressor.predict(X_train)\n",
    "y_test_pred = tt_regressor.predict(X_test)\n",
    "\n",
    "# Calculate RMSE for training and testing sets\n",
    "train_rmse = np.sqrt(mean_squared_error(y_train, y_train_pred))\n",
    "test_rmse = np.sqrt(mean_squared_error(y_test, y_test_pred))\n",
    "\n",
    "# Output the results\n",
    "print(\"Training RMSE: {:.2f}\".format(train_rmse))\n",
    "print(\"Testing RMSE: {:.2f}\".format(test_rmse))\n"
   ]
  },
  {
   "cell_type": "markdown",
   "metadata": {},
   "source": [
    "Clustering"
   ]
  },
  {
   "cell_type": "code",
   "execution_count": 12,
   "metadata": {},
   "outputs": [],
   "source": [
    "from sklearn.preprocessing import StandardScaler\n",
    "from sklearn.impute import SimpleImputer\n",
    "from sklearn.cluster import KMeans\n",
    "import matplotlib.pyplot as plt\n",
    "from sklearn.metrics import silhouette_score\n",
    "\n",
    "# Create an imputer object with a median filling strategy\n",
    "imputer = SimpleImputer(strategy='median')\n",
    "\n",
    "# Apply the imputer to the data\n",
    "cod_imputed = imputer.fit_transform(cod_filtered)\n",
    "\n",
    "# Now scale the imputed data\n",
    "scaler = StandardScaler()\n",
    "cod_scaled = scaler.fit_transform(cod_imputed)"
   ]
  },
  {
   "cell_type": "code",
   "execution_count": 15,
   "metadata": {},
   "outputs": [
    {
     "data": {
      "image/png": "[encoded data removed]",
      "text/plain": [
       "<Figure size 1000x600 with 1 Axes>"
      ]
     },
     "metadata": {},
     "output_type": "display_data"
    },
    {
     "data": {
      "image/png": "[encoded data removed]",
      "text/plain": [
       "<Figure size 1000x600 with 1 Axes>"
      ]
     },
     "metadata": {},
     "output_type": "display_data"
    }
   ],
   "source": [
    "# Proceed with the Elbow Method and Silhouette Scores using cod_scaled\n",
    "inertias = []\n",
    "silhouette_scores = []\n",
    "range_clusters = range(2, 11)\n",
    "\n",
    "for k in range_clusters:\n",
    "    kmeans = KMeans(n_clusters=k, random_state=42)\n",
    "    kmeans.fit(cod_scaled)\n",
    "    inertias.append(kmeans.inertia_)\n",
    "    # Computing silhouette score can be expensive for large datasets, consider commenting this out if not needed\n",
    "    silhouette_scores.append(silhouette_score(cod_scaled, kmeans.labels_))\n",
    "\n",
    "# Plotting the Elbow Plot\n",
    "plt.figure(figsize=(10, 6))\n",
    "plt.plot(range_clusters, inertias, '-o')\n",
    "plt.title('Elbow Method For Optimal k')\n",
    "plt.xlabel('Number of clusters')\n",
    "plt.ylabel('Inertia')\n",
    "plt.show()\n",
    "\n",
    "# Plotting the Silhouette Scores for comparison\n",
    "plt.figure(figsize=(10, 6))\n",
    "plt.plot(range_clusters, silhouette_scores, '-o')\n",
    "plt.title('Silhouette Score For Optimal k')\n",
    "plt.xlabel('Number of clusters')\n",
    "plt.ylabel('Silhouette Score')\n",
    "plt.show()\n",
    "\n"
   ]
  },
  {
   "cell_type": "code",
   "execution_count": 18,
   "metadata": {},
   "outputs": [
    {
     "name": "stdout",
     "output_type": "stream",
     "text": [
      "               wins        kills   kdRatio  killstreak       level     losses  \\\n",
      "Cluster                                                                         \n",
      "0         30.245509   478.565868  0.709262    7.107784   11.727545   4.029940   \n",
      "1        395.793103  9112.706897  1.030690   17.413793  173.206897  10.000000   \n",
      "2        211.977444  4828.827068  0.960433   13.375940   55.744361  10.563910   \n",
      "3        103.956790  1654.907407  0.928659    9.549383   51.820988   5.518519   \n",
      "\n",
      "           prestige          hits   timePlayed    headshots  averageTime  \\\n",
      "Cluster                                                                    \n",
      "0         14.500000   1635.416168    64.781437    80.613772     6.559542   \n",
      "1        100.241379  18926.896552  1542.103448  1750.241379    12.748975   \n",
      "2         62.082707  16133.090226   490.932331   829.736842     3.152524   \n",
      "3         99.401235   3139.833333   418.604938   312.388889    47.343636   \n",
      "\n",
      "         gamesPlayed      assists        misses            xp  scorePerMinute  \\\n",
      "Cluster                                                                         \n",
      "0          21.005988   101.862275   8104.347305  8.784915e+04      207.697293   \n",
      "1         172.500000  1417.224138  85620.137931  3.987988e+06       96.035156   \n",
      "2         169.398496   969.330827  70919.593985  8.562944e+05      224.528560   \n",
      "3          38.172840   273.456790  14292.456790  7.876792e+05       77.514426   \n",
      "\n",
      "                 shots       deaths  Accuracy  Headshot Ratio  \n",
      "Cluster                                                        \n",
      "0          9739.763473   618.898204  0.159155        0.168911  \n",
      "1        104544.551724  9025.758621  0.179278        0.189829  \n",
      "2         87052.684211  5127.330827  0.188621        0.174105  \n",
      "3         17432.290123  1824.604938  0.175984        0.192151  \n"
     ]
    },
    {
     "name": "stderr",
     "output_type": "stream",
     "text": [
      "/var/folders/sx/239lgvxx1yn2qrq3szxf8q380000gn/T/ipykernel_83517/1475320479.py:9: SettingWithCopyWarning: \n",
      "A value is trying to be set on a copy of a slice from a DataFrame.\n",
      "Try using .loc[row_indexer,col_indexer] = value instead\n",
      "\n",
      "See the caveats in the documentation: https://pandas.pydata.org/pandas-docs/stable/user_guide/indexing.html#returning-a-view-versus-a-copy\n",
      "  cod_filtered['Cluster'] = clusters\n"
     ]
    }
   ],
   "source": [
    "# Determine the optimal number of clusters based on the Elbow method and Silhouette score\n",
    "k_optimal = 4 \n",
    "\n",
    "# Apply K-means with the optimal number of clusters\n",
    "kmeans_final = KMeans(n_clusters=k_optimal, random_state=0)\n",
    "clusters = kmeans_final.fit_predict(cod_scaled)\n",
    "\n",
    "# Add the cluster labels to the DataFrame for analysis\n",
    "cod_filtered['Cluster'] = clusters\n",
    "\n",
    "# Analyze the clusters by looking at the mean values of features in each cluster\n",
    "cluster_means = cod_filtered.groupby('Cluster').mean()\n",
    "\n",
    "# Print the cluster medians for interpretation\n",
    "print(cluster_means)\n",
    "#cluster_means.to_csv('cluster_means.csv')"
   ]
  },
  {
   "cell_type": "code",
   "execution_count": null,
   "metadata": {},
   "outputs": [],
   "source": []
  },
  {
   "cell_type": "markdown",
   "metadata": {},
   "source": [
    "Player Behaviors Clustering"
   ]
  },
  {
   "cell_type": "code",
   "execution_count": 29,
   "metadata": {},
   "outputs": [
    {
     "name": "stdout",
     "output_type": "stream",
     "text": [
      "                kills        deaths  scorePerMinute    headshots      assists  \\\n",
      "Cluster                                                                         \n",
      "0          390.304545    443.965909       17.087374    74.194318    59.122727   \n",
      "1        26316.790323  26078.766129      200.692465  4270.782258  4904.830645   \n",
      "2         4044.092058   4356.341155      231.293998   699.855596   736.904332   \n",
      "\n",
      "         Accuracy  Headshot Ratio  \n",
      "Cluster                            \n",
      "0        0.158698        0.189185  \n",
      "1        0.194591        0.164920  \n",
      "2        0.173262        0.171759  \n"
     ]
    }
   ],
   "source": [
    "# Selecting features relevant to play styles\n",
    "features = ['kills', 'deaths', 'scorePerMinute', 'headshots', 'assists', 'Accuracy', 'Headshot Ratio']\n",
    "# Make a copy to avoid setting-with-copy warning\n",
    "cod_play_styles = cod[features].copy()\n",
    "\n",
    "# Preprocess the data\n",
    "imputer = SimpleImputer(strategy='median')\n",
    "cod_play_styles_imputed = imputer.fit_transform(cod_play_styles)\n",
    "scaler = StandardScaler()\n",
    "cod_play_styles_scaled = scaler.fit_transform(cod_play_styles_imputed)\n",
    "\n",
    "# Apply clustering\n",
    "kmeans = KMeans(n_clusters = 3, random_state = 0)\n",
    "# Directly assigning the cluster labels to the DataFrame copy\n",
    "cod_play_styles['Cluster'] = kmeans.fit_predict(cod_play_styles_scaled)\n",
    "\n",
    "# Analyze the resulting clusters\n",
    "cluster_means_style = cod_play_styles.groupby('Cluster').median()\n",
    "print(cluster_means_style)\n",
    "#cluster_means_style.to_csv('cluster_means_play_style.csv')\n"
   ]
  },
  {
   "cell_type": "code",
   "execution_count": null,
   "metadata": {},
   "outputs": [],
   "source": []
  }
 ],
 "metadata": {
  "kernelspec": {
   "display_name": "new",
   "language": "python",
   "name": "python3"
  },
  "language_info": {
   "codemirror_mode": {
    "name": "ipython",
    "version": 3
   },
   "file_extension": ".py",
   "mimetype": "text/x-python",
   "name": "python",
   "nbconvert_exporter": "python",
   "pygments_lexer": "ipython3",
   "version": "3.10.8"
  }
 },
 "nbformat": 4,
 "nbformat_minor": 2
}
